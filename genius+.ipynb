{
  "nbformat": 4,
  "nbformat_minor": 0,
  "metadata": {
    "colab": {
      "provenance": []
    },
    "kernelspec": {
      "name": "python3",
      "display_name": "Python 3"
    },
    "language_info": {
      "name": "python"
    }
  },
  "cells": [
    {
      "cell_type": "code",
      "execution_count": 1,
      "metadata": {
        "colab": {
          "base_uri": "https://localhost:8080/"
        },
        "id": "kYLEwh9jasUk",
        "outputId": "f0257e38-3b2c-4cf0-acef-cf81a4ac8022"
      },
      "outputs": [
        {
          "output_type": "stream",
          "name": "stdout",
          "text": [
            "Requirement already satisfied: torch in /usr/local/lib/python3.11/dist-packages (2.6.0+cu124)\n",
            "Requirement already satisfied: torchvision in /usr/local/lib/python3.11/dist-packages (0.21.0+cu124)\n",
            "Requirement already satisfied: timm in /usr/local/lib/python3.11/dist-packages (1.0.17)\n",
            "Requirement already satisfied: matplotlib in /usr/local/lib/python3.11/dist-packages (3.10.0)\n",
            "Requirement already satisfied: pillow in /usr/local/lib/python3.11/dist-packages (11.2.1)\n",
            "Requirement already satisfied: imageio in /usr/local/lib/python3.11/dist-packages (2.37.0)\n",
            "Requirement already satisfied: opencv-python in /usr/local/lib/python3.11/dist-packages (4.11.0.86)\n",
            "Requirement already satisfied: scikit-image in /usr/local/lib/python3.11/dist-packages (0.25.2)\n",
            "Requirement already satisfied: einops in /usr/local/lib/python3.11/dist-packages (0.8.1)\n",
            "Requirement already satisfied: filelock in /usr/local/lib/python3.11/dist-packages (from torch) (3.18.0)\n",
            "Requirement already satisfied: typing-extensions>=4.10.0 in /usr/local/lib/python3.11/dist-packages (from torch) (4.14.1)\n",
            "Requirement already satisfied: networkx in /usr/local/lib/python3.11/dist-packages (from torch) (3.5)\n",
            "Requirement already satisfied: jinja2 in /usr/local/lib/python3.11/dist-packages (from torch) (3.1.6)\n",
            "Requirement already satisfied: fsspec in /usr/local/lib/python3.11/dist-packages (from torch) (2025.3.2)\n",
            "Collecting nvidia-cuda-nvrtc-cu12==12.4.127 (from torch)\n",
            "  Downloading nvidia_cuda_nvrtc_cu12-12.4.127-py3-none-manylinux2014_x86_64.whl.metadata (1.5 kB)\n",
            "Collecting nvidia-cuda-runtime-cu12==12.4.127 (from torch)\n",
            "  Downloading nvidia_cuda_runtime_cu12-12.4.127-py3-none-manylinux2014_x86_64.whl.metadata (1.5 kB)\n",
            "Collecting nvidia-cuda-cupti-cu12==12.4.127 (from torch)\n",
            "  Downloading nvidia_cuda_cupti_cu12-12.4.127-py3-none-manylinux2014_x86_64.whl.metadata (1.6 kB)\n",
            "Collecting nvidia-cudnn-cu12==9.1.0.70 (from torch)\n",
            "  Downloading nvidia_cudnn_cu12-9.1.0.70-py3-none-manylinux2014_x86_64.whl.metadata (1.6 kB)\n",
            "Collecting nvidia-cublas-cu12==12.4.5.8 (from torch)\n",
            "  Downloading nvidia_cublas_cu12-12.4.5.8-py3-none-manylinux2014_x86_64.whl.metadata (1.5 kB)\n",
            "Collecting nvidia-cufft-cu12==11.2.1.3 (from torch)\n",
            "  Downloading nvidia_cufft_cu12-11.2.1.3-py3-none-manylinux2014_x86_64.whl.metadata (1.5 kB)\n",
            "Collecting nvidia-curand-cu12==10.3.5.147 (from torch)\n",
            "  Downloading nvidia_curand_cu12-10.3.5.147-py3-none-manylinux2014_x86_64.whl.metadata (1.5 kB)\n",
            "Collecting nvidia-cusolver-cu12==11.6.1.9 (from torch)\n",
            "  Downloading nvidia_cusolver_cu12-11.6.1.9-py3-none-manylinux2014_x86_64.whl.metadata (1.6 kB)\n",
            "Collecting nvidia-cusparse-cu12==12.3.1.170 (from torch)\n",
            "  Downloading nvidia_cusparse_cu12-12.3.1.170-py3-none-manylinux2014_x86_64.whl.metadata (1.6 kB)\n",
            "Requirement already satisfied: nvidia-cusparselt-cu12==0.6.2 in /usr/local/lib/python3.11/dist-packages (from torch) (0.6.2)\n",
            "Requirement already satisfied: nvidia-nccl-cu12==2.21.5 in /usr/local/lib/python3.11/dist-packages (from torch) (2.21.5)\n",
            "Requirement already satisfied: nvidia-nvtx-cu12==12.4.127 in /usr/local/lib/python3.11/dist-packages (from torch) (12.4.127)\n",
            "Collecting nvidia-nvjitlink-cu12==12.4.127 (from torch)\n",
            "  Downloading nvidia_nvjitlink_cu12-12.4.127-py3-none-manylinux2014_x86_64.whl.metadata (1.5 kB)\n",
            "Requirement already satisfied: triton==3.2.0 in /usr/local/lib/python3.11/dist-packages (from torch) (3.2.0)\n",
            "Requirement already satisfied: sympy==1.13.1 in /usr/local/lib/python3.11/dist-packages (from torch) (1.13.1)\n",
            "Requirement already satisfied: mpmath<1.4,>=1.1.0 in /usr/local/lib/python3.11/dist-packages (from sympy==1.13.1->torch) (1.3.0)\n",
            "Requirement already satisfied: numpy in /usr/local/lib/python3.11/dist-packages (from torchvision) (2.0.2)\n",
            "Requirement already satisfied: pyyaml in /usr/local/lib/python3.11/dist-packages (from timm) (6.0.2)\n",
            "Requirement already satisfied: huggingface_hub in /usr/local/lib/python3.11/dist-packages (from timm) (0.33.4)\n",
            "Requirement already satisfied: safetensors in /usr/local/lib/python3.11/dist-packages (from timm) (0.5.3)\n",
            "Requirement already satisfied: contourpy>=1.0.1 in /usr/local/lib/python3.11/dist-packages (from matplotlib) (1.3.2)\n",
            "Requirement already satisfied: cycler>=0.10 in /usr/local/lib/python3.11/dist-packages (from matplotlib) (0.12.1)\n",
            "Requirement already satisfied: fonttools>=4.22.0 in /usr/local/lib/python3.11/dist-packages (from matplotlib) (4.58.5)\n",
            "Requirement already satisfied: kiwisolver>=1.3.1 in /usr/local/lib/python3.11/dist-packages (from matplotlib) (1.4.8)\n",
            "Requirement already satisfied: packaging>=20.0 in /usr/local/lib/python3.11/dist-packages (from matplotlib) (24.2)\n",
            "Requirement already satisfied: pyparsing>=2.3.1 in /usr/local/lib/python3.11/dist-packages (from matplotlib) (3.2.3)\n",
            "Requirement already satisfied: python-dateutil>=2.7 in /usr/local/lib/python3.11/dist-packages (from matplotlib) (2.9.0.post0)\n",
            "Requirement already satisfied: scipy>=1.11.4 in /usr/local/lib/python3.11/dist-packages (from scikit-image) (1.15.3)\n",
            "Requirement already satisfied: tifffile>=2022.8.12 in /usr/local/lib/python3.11/dist-packages (from scikit-image) (2025.6.11)\n",
            "Requirement already satisfied: lazy-loader>=0.4 in /usr/local/lib/python3.11/dist-packages (from scikit-image) (0.4)\n",
            "Requirement already satisfied: six>=1.5 in /usr/local/lib/python3.11/dist-packages (from python-dateutil>=2.7->matplotlib) (1.17.0)\n",
            "Requirement already satisfied: requests in /usr/local/lib/python3.11/dist-packages (from huggingface_hub->timm) (2.32.3)\n",
            "Requirement already satisfied: tqdm>=4.42.1 in /usr/local/lib/python3.11/dist-packages (from huggingface_hub->timm) (4.67.1)\n",
            "Requirement already satisfied: hf-xet<2.0.0,>=1.1.2 in /usr/local/lib/python3.11/dist-packages (from huggingface_hub->timm) (1.1.5)\n",
            "Requirement already satisfied: MarkupSafe>=2.0 in /usr/local/lib/python3.11/dist-packages (from jinja2->torch) (3.0.2)\n",
            "Requirement already satisfied: charset-normalizer<4,>=2 in /usr/local/lib/python3.11/dist-packages (from requests->huggingface_hub->timm) (3.4.2)\n",
            "Requirement already satisfied: idna<4,>=2.5 in /usr/local/lib/python3.11/dist-packages (from requests->huggingface_hub->timm) (3.10)\n",
            "Requirement already satisfied: urllib3<3,>=1.21.1 in /usr/local/lib/python3.11/dist-packages (from requests->huggingface_hub->timm) (2.4.0)\n",
            "Requirement already satisfied: certifi>=2017.4.17 in /usr/local/lib/python3.11/dist-packages (from requests->huggingface_hub->timm) (2025.7.14)\n",
            "Downloading nvidia_cublas_cu12-12.4.5.8-py3-none-manylinux2014_x86_64.whl (363.4 MB)\n",
            "\u001b[2K   \u001b[90m━━━━━━━━━━━━━━━━━━━━━━━━━━━━━━━━━━━━━━━━\u001b[0m \u001b[32m363.4/363.4 MB\u001b[0m \u001b[31m4.4 MB/s\u001b[0m eta \u001b[36m0:00:00\u001b[0m\n",
            "\u001b[?25hDownloading nvidia_cuda_cupti_cu12-12.4.127-py3-none-manylinux2014_x86_64.whl (13.8 MB)\n",
            "\u001b[2K   \u001b[90m━━━━━━━━━━━━━━━━━━━━━━━━━━━━━━━━━━━━━━━━\u001b[0m \u001b[32m13.8/13.8 MB\u001b[0m \u001b[31m45.6 MB/s\u001b[0m eta \u001b[36m0:00:00\u001b[0m\n",
            "\u001b[?25hDownloading nvidia_cuda_nvrtc_cu12-12.4.127-py3-none-manylinux2014_x86_64.whl (24.6 MB)\n",
            "\u001b[2K   \u001b[90m━━━━━━━━━━━━━━━━━━━━━━━━━━━━━━━━━━━━━━━━\u001b[0m \u001b[32m24.6/24.6 MB\u001b[0m \u001b[31m31.2 MB/s\u001b[0m eta \u001b[36m0:00:00\u001b[0m\n",
            "\u001b[?25hDownloading nvidia_cuda_runtime_cu12-12.4.127-py3-none-manylinux2014_x86_64.whl (883 kB)\n",
            "\u001b[2K   \u001b[90m━━━━━━━━━━━━━━━━━━━━━━━━━━━━━━━━━━━━━━━━\u001b[0m \u001b[32m883.7/883.7 kB\u001b[0m \u001b[31m35.1 MB/s\u001b[0m eta \u001b[36m0:00:00\u001b[0m\n",
            "\u001b[?25hDownloading nvidia_cudnn_cu12-9.1.0.70-py3-none-manylinux2014_x86_64.whl (664.8 MB)\n",
            "\u001b[2K   \u001b[90m━━━━━━━━━━━━━━━━━━━━━━━━━━━━━━━━━━━━━━━━\u001b[0m \u001b[32m664.8/664.8 MB\u001b[0m \u001b[31m2.8 MB/s\u001b[0m eta \u001b[36m0:00:00\u001b[0m\n",
            "\u001b[?25hDownloading nvidia_cufft_cu12-11.2.1.3-py3-none-manylinux2014_x86_64.whl (211.5 MB)\n",
            "\u001b[2K   \u001b[90m━━━━━━━━━━━━━━━━━━━━━━━━━━━━━━━━━━━━━━━━\u001b[0m \u001b[32m211.5/211.5 MB\u001b[0m \u001b[31m6.2 MB/s\u001b[0m eta \u001b[36m0:00:00\u001b[0m\n",
            "\u001b[?25hDownloading nvidia_curand_cu12-10.3.5.147-py3-none-manylinux2014_x86_64.whl (56.3 MB)\n",
            "\u001b[2K   \u001b[90m━━━━━━━━━━━━━━━━━━━━━━━━━━━━━━━━━━━━━━━━\u001b[0m \u001b[32m56.3/56.3 MB\u001b[0m \u001b[31m11.9 MB/s\u001b[0m eta \u001b[36m0:00:00\u001b[0m\n",
            "\u001b[?25hDownloading nvidia_cusolver_cu12-11.6.1.9-py3-none-manylinux2014_x86_64.whl (127.9 MB)\n",
            "\u001b[2K   \u001b[90m━━━━━━━━━━━━━━━━━━━━━━━━━━━━━━━━━━━━━━━━\u001b[0m \u001b[32m127.9/127.9 MB\u001b[0m \u001b[31m7.4 MB/s\u001b[0m eta \u001b[36m0:00:00\u001b[0m\n",
            "\u001b[?25hDownloading nvidia_cusparse_cu12-12.3.1.170-py3-none-manylinux2014_x86_64.whl (207.5 MB)\n",
            "\u001b[2K   \u001b[90m━━━━━━━━━━━━━━━━━━━━━━━━━━━━━━━━━━━━━━━━\u001b[0m \u001b[32m207.5/207.5 MB\u001b[0m \u001b[31m5.8 MB/s\u001b[0m eta \u001b[36m0:00:00\u001b[0m\n",
            "\u001b[?25hDownloading nvidia_nvjitlink_cu12-12.4.127-py3-none-manylinux2014_x86_64.whl (21.1 MB)\n",
            "\u001b[2K   \u001b[90m━━━━━━━━━━━━━━━━━━━━━━━━━━━━━━━━━━━━━━━━\u001b[0m \u001b[32m21.1/21.1 MB\u001b[0m \u001b[31m89.9 MB/s\u001b[0m eta \u001b[36m0:00:00\u001b[0m\n",
            "\u001b[?25hInstalling collected packages: nvidia-nvjitlink-cu12, nvidia-curand-cu12, nvidia-cufft-cu12, nvidia-cuda-runtime-cu12, nvidia-cuda-nvrtc-cu12, nvidia-cuda-cupti-cu12, nvidia-cublas-cu12, nvidia-cusparse-cu12, nvidia-cudnn-cu12, nvidia-cusolver-cu12\n",
            "  Attempting uninstall: nvidia-nvjitlink-cu12\n",
            "    Found existing installation: nvidia-nvjitlink-cu12 12.5.82\n",
            "    Uninstalling nvidia-nvjitlink-cu12-12.5.82:\n",
            "      Successfully uninstalled nvidia-nvjitlink-cu12-12.5.82\n",
            "  Attempting uninstall: nvidia-curand-cu12\n",
            "    Found existing installation: nvidia-curand-cu12 10.3.6.82\n",
            "    Uninstalling nvidia-curand-cu12-10.3.6.82:\n",
            "      Successfully uninstalled nvidia-curand-cu12-10.3.6.82\n",
            "  Attempting uninstall: nvidia-cufft-cu12\n",
            "    Found existing installation: nvidia-cufft-cu12 11.2.3.61\n",
            "    Uninstalling nvidia-cufft-cu12-11.2.3.61:\n",
            "      Successfully uninstalled nvidia-cufft-cu12-11.2.3.61\n",
            "  Attempting uninstall: nvidia-cuda-runtime-cu12\n",
            "    Found existing installation: nvidia-cuda-runtime-cu12 12.5.82\n",
            "    Uninstalling nvidia-cuda-runtime-cu12-12.5.82:\n",
            "      Successfully uninstalled nvidia-cuda-runtime-cu12-12.5.82\n",
            "  Attempting uninstall: nvidia-cuda-nvrtc-cu12\n",
            "    Found existing installation: nvidia-cuda-nvrtc-cu12 12.5.82\n",
            "    Uninstalling nvidia-cuda-nvrtc-cu12-12.5.82:\n",
            "      Successfully uninstalled nvidia-cuda-nvrtc-cu12-12.5.82\n",
            "  Attempting uninstall: nvidia-cuda-cupti-cu12\n",
            "    Found existing installation: nvidia-cuda-cupti-cu12 12.5.82\n",
            "    Uninstalling nvidia-cuda-cupti-cu12-12.5.82:\n",
            "      Successfully uninstalled nvidia-cuda-cupti-cu12-12.5.82\n",
            "  Attempting uninstall: nvidia-cublas-cu12\n",
            "    Found existing installation: nvidia-cublas-cu12 12.5.3.2\n",
            "    Uninstalling nvidia-cublas-cu12-12.5.3.2:\n",
            "      Successfully uninstalled nvidia-cublas-cu12-12.5.3.2\n",
            "  Attempting uninstall: nvidia-cusparse-cu12\n",
            "    Found existing installation: nvidia-cusparse-cu12 12.5.1.3\n",
            "    Uninstalling nvidia-cusparse-cu12-12.5.1.3:\n",
            "      Successfully uninstalled nvidia-cusparse-cu12-12.5.1.3\n",
            "  Attempting uninstall: nvidia-cudnn-cu12\n",
            "    Found existing installation: nvidia-cudnn-cu12 9.3.0.75\n",
            "    Uninstalling nvidia-cudnn-cu12-9.3.0.75:\n",
            "      Successfully uninstalled nvidia-cudnn-cu12-9.3.0.75\n",
            "  Attempting uninstall: nvidia-cusolver-cu12\n",
            "    Found existing installation: nvidia-cusolver-cu12 11.6.3.83\n",
            "    Uninstalling nvidia-cusolver-cu12-11.6.3.83:\n",
            "      Successfully uninstalled nvidia-cusolver-cu12-11.6.3.83\n",
            "Successfully installed nvidia-cublas-cu12-12.4.5.8 nvidia-cuda-cupti-cu12-12.4.127 nvidia-cuda-nvrtc-cu12-12.4.127 nvidia-cuda-runtime-cu12-12.4.127 nvidia-cudnn-cu12-9.1.0.70 nvidia-cufft-cu12-11.2.1.3 nvidia-curand-cu12-10.3.5.147 nvidia-cusolver-cu12-11.6.1.9 nvidia-cusparse-cu12-12.3.1.170 nvidia-nvjitlink-cu12-12.4.127\n"
          ]
        }
      ],
      "source": [
        "pip install torch torchvision timm matplotlib pillow imageio opencv-python scikit-image einops\n"
      ]
    },
    {
      "cell_type": "code",
      "source": [
        "import os\n",
        "import torch\n",
        "import torch.nn as nn\n",
        "import torchvision.transforms as transforms\n",
        "import timm\n",
        "import imageio.v3 as imageio\n",
        "import numpy as np\n",
        "import cv2\n",
        "from PIL import Image\n",
        "import matplotlib.pyplot as plt\n",
        "from skimage.color import rgb2gray\n",
        "from einops import rearrange\n",
        "\n",
        "# ======== Utility Functions ==========\n",
        "def load_image(path):\n",
        "    img = imageio.imread(path)\n",
        "    if img.ndim == 2:  # Grayscale\n",
        "        img = np.stack([img] * 3, axis=-1)\n",
        "    elif img.shape[-1] == 4:  # Remove alpha\n",
        "        img = img[..., :3]\n",
        "    return Image.fromarray(img.astype(np.uint8))\n",
        "\n",
        "def save_image(tensor, name):\n",
        "    img = tensor.detach().cpu().numpy().transpose(1, 2, 0)\n",
        "    img = np.clip(img * 255, 0, 255).astype(np.uint8)\n",
        "    Image.fromarray(img).save(name)\n",
        "\n",
        "# ========== Preprocessing ============\n",
        "def preprocess_image(img, image_size=224):\n",
        "    transform = transforms.Compose([\n",
        "        transforms.Resize((image_size, image_size)),\n",
        "        transforms.ToTensor(),\n",
        "    ])\n",
        "    tensor = transform(img)\n",
        "    save_image(tensor, \"1_preprocessed_image.png\")\n",
        "    return tensor.unsqueeze(0)\n",
        "\n",
        "# ========== Frequency Features =========\n",
        "def get_dct_features(image_tensor):\n",
        "    img = image_tensor.squeeze().permute(1, 2, 0).numpy()\n",
        "    gray = rgb2gray(img)\n",
        "    dct = cv2.dct(gray.astype(np.float32))\n",
        "    dct = cv2.resize(dct, (224, 224))\n",
        "    dct_tensor = torch.tensor(dct).unsqueeze(0).unsqueeze(0)\n",
        "    plt.imsave(\"2_frequency_dct.png\", dct, cmap='gray')\n",
        "    return dct_tensor\n",
        "\n",
        "# ========== GENIUS-Net (Hybrid) =========\n",
        "class GENIUSNet(nn.Module):\n",
        "    def __init__(self):\n",
        "        super(GENIUSNet, self).__init__()\n",
        "        self.cnn_branch = nn.Sequential(\n",
        "            nn.Conv2d(3, 32, 3, padding=1), nn.ReLU(),\n",
        "            nn.Conv2d(32, 64, 3, padding=1), nn.ReLU(),\n",
        "            nn.AdaptiveAvgPool2d((7, 7))\n",
        "        )\n",
        "        self.dct_branch = nn.Sequential(\n",
        "            nn.Conv2d(1, 16, 3, padding=1), nn.ReLU(),\n",
        "            nn.AdaptiveAvgPool2d((7, 7))\n",
        "        )\n",
        "        self.attention = nn.Sequential(\n",
        "            nn.Linear(64 * 7 * 7 + 16 * 7 * 7, 256),\n",
        "            nn.ReLU(),\n",
        "            nn.Dropout(0.25),\n",
        "            nn.Linear(256, 2)\n",
        "        )\n",
        "\n",
        "    def forward(self, rgb_input, freq_input):\n",
        "        x1 = self.cnn_branch(rgb_input)\n",
        "        x2 = self.dct_branch(freq_input)\n",
        "        x1 = x1.view(x1.size(0), -1)\n",
        "        x2 = x2.view(x2.size(0), -1)\n",
        "        combined = torch.cat((x1, x2), dim=1)\n",
        "        out = self.attention(combined)\n",
        "        return out\n",
        "\n",
        "# ========== Main Detection ============\n",
        "def detect_ai_forgery(image_path):\n",
        "    print(\"===== GENIUS-Net AI Image Detection =====\")\n",
        "\n",
        "    img = load_image(image_path)\n",
        "    img_tensor = preprocess_image(img)\n",
        "    freq_tensor = get_dct_features(img_tensor)\n",
        "\n",
        "    model = GENIUSNet()\n",
        "    model.eval()\n",
        "\n",
        "    with torch.no_grad():\n",
        "        output = model(img_tensor, freq_tensor)\n",
        "        pred = torch.argmax(output, dim=1).item()\n",
        "        label = \"AI-Generated\" if pred == 1 else \"Real\"\n",
        "        print(f\"Prediction: {label}\")\n",
        "        return label\n",
        "\n",
        "# ========== Run Sample ============\n",
        "if __name__ == \"__main__\":\n",
        "    image_path = \"/content/4.jpg\"  # or .jpg, .png, .gif\n",
        "    detect_ai_forgery(image_path)\n",
        "    plt.show()\n"
      ],
      "metadata": {
        "colab": {
          "base_uri": "https://localhost:8080/"
        },
        "id": "jBMIGAmKbaAc",
        "outputId": "d7191dc4-5fa4-4072-840a-28793a7028b4"
      },
      "execution_count": 14,
      "outputs": [
        {
          "output_type": "stream",
          "name": "stdout",
          "text": [
            "===== GENIUS-Net AI Image Detection =====\n",
            "Prediction: Real\n"
          ]
        }
      ]
    },
    {
      "cell_type": "code",
      "source": [
        "#python geniusnet_ai_detector.py\n"
      ],
      "metadata": {
        "colab": {
          "base_uri": "https://localhost:8080/",
          "height": 106
        },
        "id": "AAeg6r12dgxR",
        "outputId": "834f5b91-a1d9-4140-be43-57b93729e0a2"
      },
      "execution_count": 10,
      "outputs": [
        {
          "output_type": "error",
          "ename": "SyntaxError",
          "evalue": "invalid syntax (ipython-input-10-1211672233.py, line 1)",
          "traceback": [
            "\u001b[0;36m  File \u001b[0;32m\"/tmp/ipython-input-10-1211672233.py\"\u001b[0;36m, line \u001b[0;32m1\u001b[0m\n\u001b[0;31m    python geniusnet_ai_detector.py\u001b[0m\n\u001b[0m           ^\u001b[0m\n\u001b[0;31mSyntaxError\u001b[0m\u001b[0;31m:\u001b[0m invalid syntax\n"
          ]
        }
      ]
    },
    {
      "cell_type": "code",
      "source": [
        "from PIL import Image, ImageDraw, ImageFont\n",
        "import os\n",
        "\n",
        "# Load your saved preprocessed image\n",
        "preprocessed_img_path = \"geniusnet_output/1_preprocessed.png\"\n",
        "preprocessed_image = Image.open(preprocessed_img_path).convert(\"RGB\")\n",
        "\n",
        "# Label prediction (assume from GENIUS-Net output)\n",
        "label = \"Real\"  # or \"AI-Generated\"\n",
        "\n",
        "# Draw prediction on image\n",
        "draw = ImageDraw.Draw(preprocessed_image)\n",
        "try:\n",
        "    font = ImageFont.truetype(\"arial.ttf\", 24)\n",
        "except:\n",
        "    font = ImageFont.load_default()\n",
        "\n",
        "color = (255, 0, 0) if label == \"AI-Generated\" else (0, 128, 0)\n",
        "draw.text((10, 10), f\"Prediction: {label}\", fill=color, font=font)\n",
        "\n",
        "# Save final result\n",
        "final_path = \"geniusnet_output/4_predicted_image.png\"\n",
        "preprocessed_image.save(final_path)\n",
        "print(f\"✅ Saved prediction image at {final_path}\")\n"
      ],
      "metadata": {
        "colab": {
          "base_uri": "https://localhost:8080/",
          "height": 349
        },
        "id": "Pba0yg9pd-LM",
        "outputId": "5c24a360-b1c7-4443-e127-3cd7fd75f626"
      },
      "execution_count": 7,
      "outputs": [
        {
          "output_type": "error",
          "ename": "FileNotFoundError",
          "evalue": "[Errno 2] No such file or directory: 'geniusnet_output/1_preprocessed.png'",
          "traceback": [
            "\u001b[0;31m---------------------------------------------------------------------------\u001b[0m",
            "\u001b[0;31mFileNotFoundError\u001b[0m                         Traceback (most recent call last)",
            "\u001b[0;32m/tmp/ipython-input-7-148677055.py\u001b[0m in \u001b[0;36m<cell line: 0>\u001b[0;34m()\u001b[0m\n\u001b[1;32m      4\u001b[0m \u001b[0;31m# Load your saved preprocessed image\u001b[0m\u001b[0;34m\u001b[0m\u001b[0;34m\u001b[0m\u001b[0m\n\u001b[1;32m      5\u001b[0m \u001b[0mpreprocessed_img_path\u001b[0m \u001b[0;34m=\u001b[0m \u001b[0;34m\"geniusnet_output/1_preprocessed.png\"\u001b[0m\u001b[0;34m\u001b[0m\u001b[0;34m\u001b[0m\u001b[0m\n\u001b[0;32m----> 6\u001b[0;31m \u001b[0mpreprocessed_image\u001b[0m \u001b[0;34m=\u001b[0m \u001b[0mImage\u001b[0m\u001b[0;34m.\u001b[0m\u001b[0mopen\u001b[0m\u001b[0;34m(\u001b[0m\u001b[0mpreprocessed_img_path\u001b[0m\u001b[0;34m)\u001b[0m\u001b[0;34m.\u001b[0m\u001b[0mconvert\u001b[0m\u001b[0;34m(\u001b[0m\u001b[0;34m\"RGB\"\u001b[0m\u001b[0;34m)\u001b[0m\u001b[0;34m\u001b[0m\u001b[0;34m\u001b[0m\u001b[0m\n\u001b[0m\u001b[1;32m      7\u001b[0m \u001b[0;34m\u001b[0m\u001b[0m\n\u001b[1;32m      8\u001b[0m \u001b[0;31m# Label prediction (assume from GENIUS-Net output)\u001b[0m\u001b[0;34m\u001b[0m\u001b[0;34m\u001b[0m\u001b[0m\n",
            "\u001b[0;32m/usr/local/lib/python3.11/dist-packages/PIL/Image.py\u001b[0m in \u001b[0;36mopen\u001b[0;34m(fp, mode, formats)\u001b[0m\n\u001b[1;32m   3503\u001b[0m \u001b[0;34m\u001b[0m\u001b[0m\n\u001b[1;32m   3504\u001b[0m     \u001b[0;32mif\u001b[0m \u001b[0mfilename\u001b[0m\u001b[0;34m:\u001b[0m\u001b[0;34m\u001b[0m\u001b[0;34m\u001b[0m\u001b[0m\n\u001b[0;32m-> 3505\u001b[0;31m         \u001b[0mfp\u001b[0m \u001b[0;34m=\u001b[0m \u001b[0mbuiltins\u001b[0m\u001b[0;34m.\u001b[0m\u001b[0mopen\u001b[0m\u001b[0;34m(\u001b[0m\u001b[0mfilename\u001b[0m\u001b[0;34m,\u001b[0m \u001b[0;34m\"rb\"\u001b[0m\u001b[0;34m)\u001b[0m\u001b[0;34m\u001b[0m\u001b[0;34m\u001b[0m\u001b[0m\n\u001b[0m\u001b[1;32m   3506\u001b[0m         \u001b[0mexclusive_fp\u001b[0m \u001b[0;34m=\u001b[0m \u001b[0;32mTrue\u001b[0m\u001b[0;34m\u001b[0m\u001b[0;34m\u001b[0m\u001b[0m\n\u001b[1;32m   3507\u001b[0m     \u001b[0;32melse\u001b[0m\u001b[0;34m:\u001b[0m\u001b[0;34m\u001b[0m\u001b[0;34m\u001b[0m\u001b[0m\n",
            "\u001b[0;31mFileNotFoundError\u001b[0m: [Errno 2] No such file or directory: 'geniusnet_output/1_preprocessed.png'"
          ]
        }
      ]
    },
    {
      "cell_type": "code",
      "source": [
        "import os\n",
        "import torch\n",
        "import torch.nn as nn\n",
        "import torchvision.transforms as transforms\n",
        "import imageio.v3 as imageio\n",
        "import numpy as np\n",
        "import cv2\n",
        "from PIL import Image, ImageDraw, ImageFont\n",
        "import matplotlib.pyplot as plt\n",
        "from skimage.color import rgb2gray\n",
        "\n",
        "# Setup\n",
        "output_dir = \"geniusnet_output\"\n",
        "os.makedirs(output_dir, exist_ok=True)\n",
        "\n",
        "# Load image\n",
        "def load_image(path):\n",
        "    img = imageio.imread(path)\n",
        "    if img.ndim == 2:\n",
        "        img = np.stack([img] * 3, axis=-1)\n",
        "    elif img.shape[-1] == 4:\n",
        "        img = img[..., :3]\n",
        "    return Image.fromarray(img.astype(np.uint8))\n",
        "\n",
        "# Save tensor as image\n",
        "def save_tensor_image(tensor, filename):\n",
        "    img = tensor.detach().cpu().numpy().transpose(1, 2, 0)\n",
        "    img = np.clip(img * 255, 0, 255).astype(np.uint8)\n",
        "    Image.fromarray(img).save(os.path.join(output_dir, filename))\n",
        "\n",
        "# Preprocess\n",
        "def preprocess_image(img):\n",
        "    transform = transforms.Compose([\n",
        "        transforms.Resize((224, 224)),\n",
        "        transforms.ToTensor(),\n",
        "    ])\n",
        "    tensor = transform(img)\n",
        "    save_tensor_image(tensor, \"1_preprocessed.png\")\n",
        "    return tensor.unsqueeze(0)\n",
        "\n",
        "# Frequency\n",
        "def get_dct_features(image_tensor):\n",
        "    img = image_tensor.squeeze().permute(1, 2, 0).numpy()\n",
        "    gray = rgb2gray(img)\n",
        "    dct = cv2.dct(gray.astype(np.float32))\n"
      ],
      "metadata": {
        "id": "lhx_YubIeVJL"
      },
      "execution_count": 11,
      "outputs": []
    },
    {
      "cell_type": "code",
      "source": [
        "import os\n",
        "import torch\n",
        "import torch.nn as nn\n",
        "import torchvision.transforms as transforms\n",
        "import imageio.v3 as imageio\n",
        "import numpy as np\n",
        "import cv2\n",
        "from PIL import Image, ImageDraw, ImageFont\n",
        "import matplotlib.pyplot as plt\n",
        "from skimage.color import rgb2gray\n",
        "\n",
        "# Setup\n",
        "output_dir = \"geniusnet_output\"\n",
        "os.makedirs(output_dir, exist_ok=True)\n",
        "\n",
        "# Load image\n",
        "def load_image(path):\n",
        "    img = imageio.imread(path)\n",
        "    if img.ndim == 2:\n",
        "        img = np.stack([img] * 3, axis=-1)\n",
        "    elif img.shape[-1] == 4:\n",
        "        img = img[..., :3]\n",
        "    return Image.fromarray(img.astype(np.uint8))\n",
        "\n",
        "# Save tensor as image\n",
        "def save_tensor_image(tensor, filename):\n",
        "    img = tensor.detach().cpu().numpy().transpose(1, 2, 0)\n",
        "    img = np.clip(img * 255, 0, 255).astype(np.uint8)\n",
        "    Image.fromarray(img).save(os.path.join(output_dir, filename))\n",
        "\n",
        "# Preprocess\n",
        "def preprocess_image(img):\n",
        "    transform = transforms.Compose([\n",
        "        transforms.Resize((224, 224)),\n",
        "        transforms.ToTensor(),\n",
        "    ])\n",
        "    tensor = transform(img)\n",
        "    save_tensor_image(tensor, \"1_preprocessed.png\")\n",
        "    return tensor.unsqueeze(0)\n",
        "\n",
        "# Frequency\n",
        "def get_dct_features(image_tensor):\n",
        "    img = image_tensor.squeeze().permute(1, 2, 0).numpy()\n",
        "    gray = rgb2gray(img)\n",
        "    dct = cv2.dct(gray.astype(np.float32))\n",
        "    dct_resized = cv2.resize(dct, (224, 224))\n",
        "    dct_tensor = torch.tensor(dct_resized).unsqueeze(0).unsqueeze(0)\n",
        "    plt.imsave(os.path.join(output_dir, \"2_dct_frequency.png\"), dct_resized, cmap='gray')\n",
        "    return dct_tensor\n",
        "\n",
        "# GENIUS-Net\n",
        "class GENIUSNet(nn.Module):\n",
        "    def __init__(self):\n",
        "        super(GENIUSNet, self).__init__()\n",
        "        self.cnn_branch = nn.Sequential(\n",
        "            nn.Conv2d(3, 32, 3, padding=1), nn.ReLU(),\n",
        "            nn.Conv2d(32, 64, 3, padding=1), nn.ReLU(),\n",
        "            nn.AdaptiveAvgPool2d((7, 7))\n",
        "        )\n",
        "        self.freq_branch = nn.Sequential(\n",
        "            nn.Conv2d(1, 16, 3, padding=1), nn.ReLU(),\n",
        "            nn.AdaptiveAvgPool2d((7, 7))\n",
        "        )\n",
        "        self.classifier = nn.Sequential(\n",
        "            nn.Linear((64 + 16) * 7 * 7, 256),\n",
        "            nn.ReLU(),\n",
        "            nn.Dropout(0.25),\n",
        "            nn.Linear(256, 2)\n",
        "        )\n",
        "\n",
        "    def forward(self, rgb, freq):\n",
        "        x1 = self.cnn_branch(rgb).view(rgb.size(0), -1)\n",
        "        x2 = self.freq_branch(freq).view(freq.size(0), -1)\n",
        "        fused = torch.cat([x1, x2], dim=1)\n",
        "        return self.classifier(fused)\n",
        "\n",
        "# Load and run model\n",
        "image_path = \"/content/1.avif\"  # replace with your image path\n",
        "image = load_image(image_path)\n",
        "img_tensor = preprocess_image(image)\n",
        "freq_tensor = get_dct_features(img_tensor)\n",
        "\n",
        "model = GENIUSNet()\n",
        "model.eval()\n",
        "\n",
        "with torch.no_grad():\n",
        "    output = model(img_tensor, freq_tensor)\n",
        "    pred = torch.argmax(output, dim=1).item()\n",
        "    label = \"AI-Generated\" if pred == 1 else \"Real\"\n",
        "\n",
        "# Overlay label on preprocessed image\n",
        "pre_img_path = os.path.join(output_dir, \"1_preprocessed.png\")\n",
        "img_with_text = Image.open(pre_img_path).convert(\"RGB\")\n",
        "draw = ImageDraw.Draw(img_with_text)\n",
        "try:\n",
        "    font = ImageFont.truetype(\"arial.ttf\", 24)\n",
        "except:\n",
        "    font = ImageFont.load_default()\n",
        "\n",
        "text_color = (255, 0, 0) if label == \"AI-Generated\" else (0, 128, 0)\n",
        "draw.text((10, 10), f\"Prediction: {label}\", fill=text_color, font=font)\n",
        "\n",
        "# Save final output\n",
        "final_img_path = os.path.join(output_dir, \"4_predicted_image.png\")\n",
        "img_with_text.save(final_img_path)\n",
        "print(f\"✅ Prediction: {label}\")\n",
        "print(f\"📷 Saved final image at: {final_img_path}\")\n"
      ],
      "metadata": {
        "colab": {
          "base_uri": "https://localhost:8080/"
        },
        "id": "EzqULTlNe3x_",
        "outputId": "8299bd4f-e3a4-4b8a-dace-8616be6e6bb4"
      },
      "execution_count": 34,
      "outputs": [
        {
          "output_type": "stream",
          "name": "stderr",
          "text": [
            "/usr/local/lib/python3.11/dist-packages/PIL/Image.py:3570: UserWarning: image file could not be identified because AVIF support not installed\n",
            "  warnings.warn(message)\n"
          ]
        },
        {
          "output_type": "stream",
          "name": "stdout",
          "text": [
            "✅ Prediction: Real\n",
            "📷 Saved final image at: geniusnet_output/4_predicted_image.png\n"
          ]
        }
      ]
    },
    {
      "cell_type": "code",
      "source": [
        "import torch\n",
        "import torch.nn as nn\n",
        "import torchvision.models as models\n",
        "\n",
        "class CBAM(nn.Module):\n",
        "    def __init__(self, channels, reduction=16):\n",
        "        super(CBAM, self).__init__()\n",
        "        self.channel_attention = nn.Sequential(\n",
        "            nn.AdaptiveAvgPool2d(1),\n",
        "            nn.Conv2d(channels, channels // reduction, 1), nn.ReLU(),\n",
        "            nn.Conv2d(channels // reduction, channels, 1), nn.Sigmoid()\n",
        "        )\n",
        "        self.spatial_attention = nn.Sequential(\n",
        "            nn.Conv2d(2, 1, kernel_size=7, padding=3), nn.Sigmoid()\n",
        "        )\n",
        "\n",
        "    def forward(self, x):\n",
        "        ca = self.channel_attention(x) * x\n",
        "        avg_out = torch.mean(ca, dim=1, keepdim=True)\n",
        "        max_out, _ = torch.max(ca, dim=1, keepdim=True)\n",
        "        sa = self.spatial_attention(torch.cat([avg_out, max_out], dim=1))\n",
        "        return ca * sa\n",
        "\n",
        "class GENIUSPlus(nn.Module):\n",
        "    def __init__(self, metadata_dim=5):\n",
        "        super(GENIUSPlus, self).__init__()\n",
        "\n",
        "        # Spatial feature extractor (ResNet50)\n",
        "        resnet = models.resnet50(pretrained=True)\n",
        "        self.spatial_branch = nn.Sequential(*list(resnet.children())[:-2])  # Keep conv layers\n",
        "        self.spatial_pool = nn.AdaptiveAvgPool2d((1, 1))\n",
        "\n",
        "        # Frequency branch (DCT + CNN)\n",
        "        self.freq_branch = nn.Sequential(\n",
        "            nn.Conv2d(1, 16, 3, padding=1), nn.ReLU(),\n",
        "            nn.Conv2d(16, 32, 3, padding=1), nn.ReLU(),\n",
        "            CBAM(32),\n",
        "            nn.AdaptiveAvgPool2d((1, 1))\n",
        "        )\n",
        "\n",
        "        # Metadata branch (optional)\n",
        "        self.meta_branch = nn.Sequential(\n",
        "            nn.Linear(metadata_dim, 32),\n",
        "            nn.ReLU(),\n",
        "            nn.Linear(32, 16)\n",
        "        )\n",
        "\n",
        "        # Final classifier\n",
        "        self.classifier = nn.Sequential(\n",
        "            nn.Linear(2048 + 32 + 16, 256),\n",
        "            nn.ReLU(),\n",
        "            nn.Dropout(0.25),\n",
        "            nn.Linear(256, 2)\n",
        "        )\n",
        "\n",
        "    def forward(self, img_rgb, freq_dct, metadata):\n",
        "        # RGB branch\n",
        "        spatial_feat = self.spatial_branch(img_rgb)\n",
        "        spatial_feat = self.spatial_pool(spatial_feat).view(img_rgb.size(0), -1)\n",
        "\n",
        "        # DCT branch\n",
        "        freq_feat = self.freq_branch(freq_dct).view(img_rgb.size(0), -1)\n",
        "\n",
        "        # Metadata branch\n",
        "        meta_feat = self.meta_branch(metadata)\n",
        "\n",
        "        # Fusion and classification\n",
        "        fused = torch.cat([spatial_feat, freq_feat, meta_feat], dim=1)\n",
        "        return self.classifier(fused)\n"
      ],
      "metadata": {
        "id": "nOPKBKRotEt1"
      },
      "execution_count": 35,
      "outputs": []
    },
    {
      "cell_type": "code",
      "source": [
        "from torchvision.models import mobilenet_v2\n",
        "self.spatial_branch = nn.Sequential(*list(mobilenet_v2(pretrained=True).features))\n"
      ],
      "metadata": {
        "colab": {
          "base_uri": "https://localhost:8080/",
          "height": 176
        },
        "id": "eoEKhoHaux--",
        "outputId": "02f8390f-be6d-486f-988f-c10d45ccce5d"
      },
      "execution_count": 19,
      "outputs": [
        {
          "output_type": "error",
          "ename": "NameError",
          "evalue": "name 'self' is not defined",
          "traceback": [
            "\u001b[0;31m---------------------------------------------------------------------------\u001b[0m",
            "\u001b[0;31mNameError\u001b[0m                                 Traceback (most recent call last)",
            "\u001b[0;32m/tmp/ipython-input-19-3064079983.py\u001b[0m in \u001b[0;36m<cell line: 0>\u001b[0;34m()\u001b[0m\n\u001b[1;32m      1\u001b[0m \u001b[0;32mfrom\u001b[0m \u001b[0mtorchvision\u001b[0m\u001b[0;34m.\u001b[0m\u001b[0mmodels\u001b[0m \u001b[0;32mimport\u001b[0m \u001b[0mmobilenet_v2\u001b[0m\u001b[0;34m\u001b[0m\u001b[0;34m\u001b[0m\u001b[0m\n\u001b[0;32m----> 2\u001b[0;31m \u001b[0mself\u001b[0m\u001b[0;34m.\u001b[0m\u001b[0mspatial_branch\u001b[0m \u001b[0;34m=\u001b[0m \u001b[0mnn\u001b[0m\u001b[0;34m.\u001b[0m\u001b[0mSequential\u001b[0m\u001b[0;34m(\u001b[0m\u001b[0;34m*\u001b[0m\u001b[0mlist\u001b[0m\u001b[0;34m(\u001b[0m\u001b[0mmobilenet_v2\u001b[0m\u001b[0;34m(\u001b[0m\u001b[0mpretrained\u001b[0m\u001b[0;34m=\u001b[0m\u001b[0;32mTrue\u001b[0m\u001b[0;34m)\u001b[0m\u001b[0;34m.\u001b[0m\u001b[0mfeatures\u001b[0m\u001b[0;34m)\u001b[0m\u001b[0;34m)\u001b[0m\u001b[0;34m\u001b[0m\u001b[0;34m\u001b[0m\u001b[0m\n\u001b[0m",
            "\u001b[0;31mNameError\u001b[0m: name 'self' is not defined"
          ]
        }
      ]
    },
    {
      "cell_type": "code",
      "source": [
        "pip install torch torchvision scikit-image opencv-python pillow matplotlib imageio\n"
      ],
      "metadata": {
        "colab": {
          "base_uri": "https://localhost:8080/"
        },
        "id": "ZMcGD76CvFCl",
        "outputId": "827f42c0-63fd-43d3-b405-a1e9cf6f7f59"
      },
      "execution_count": 36,
      "outputs": [
        {
          "output_type": "stream",
          "name": "stdout",
          "text": [
            "Requirement already satisfied: torch in /usr/local/lib/python3.11/dist-packages (2.6.0+cu124)\n",
            "Requirement already satisfied: torchvision in /usr/local/lib/python3.11/dist-packages (0.21.0+cu124)\n",
            "Requirement already satisfied: scikit-image in /usr/local/lib/python3.11/dist-packages (0.25.2)\n",
            "Requirement already satisfied: opencv-python in /usr/local/lib/python3.11/dist-packages (4.11.0.86)\n",
            "Requirement already satisfied: pillow in /usr/local/lib/python3.11/dist-packages (11.2.1)\n",
            "Requirement already satisfied: matplotlib in /usr/local/lib/python3.11/dist-packages (3.10.0)\n",
            "Requirement already satisfied: imageio in /usr/local/lib/python3.11/dist-packages (2.37.0)\n",
            "Requirement already satisfied: filelock in /usr/local/lib/python3.11/dist-packages (from torch) (3.18.0)\n",
            "Requirement already satisfied: typing-extensions>=4.10.0 in /usr/local/lib/python3.11/dist-packages (from torch) (4.14.1)\n",
            "Requirement already satisfied: networkx in /usr/local/lib/python3.11/dist-packages (from torch) (3.5)\n",
            "Requirement already satisfied: jinja2 in /usr/local/lib/python3.11/dist-packages (from torch) (3.1.6)\n",
            "Requirement already satisfied: fsspec in /usr/local/lib/python3.11/dist-packages (from torch) (2025.3.2)\n",
            "Requirement already satisfied: nvidia-cuda-nvrtc-cu12==12.4.127 in /usr/local/lib/python3.11/dist-packages (from torch) (12.4.127)\n",
            "Requirement already satisfied: nvidia-cuda-runtime-cu12==12.4.127 in /usr/local/lib/python3.11/dist-packages (from torch) (12.4.127)\n",
            "Requirement already satisfied: nvidia-cuda-cupti-cu12==12.4.127 in /usr/local/lib/python3.11/dist-packages (from torch) (12.4.127)\n",
            "Requirement already satisfied: nvidia-cudnn-cu12==9.1.0.70 in /usr/local/lib/python3.11/dist-packages (from torch) (9.1.0.70)\n",
            "Requirement already satisfied: nvidia-cublas-cu12==12.4.5.8 in /usr/local/lib/python3.11/dist-packages (from torch) (12.4.5.8)\n",
            "Requirement already satisfied: nvidia-cufft-cu12==11.2.1.3 in /usr/local/lib/python3.11/dist-packages (from torch) (11.2.1.3)\n",
            "Requirement already satisfied: nvidia-curand-cu12==10.3.5.147 in /usr/local/lib/python3.11/dist-packages (from torch) (10.3.5.147)\n",
            "Requirement already satisfied: nvidia-cusolver-cu12==11.6.1.9 in /usr/local/lib/python3.11/dist-packages (from torch) (11.6.1.9)\n",
            "Requirement already satisfied: nvidia-cusparse-cu12==12.3.1.170 in /usr/local/lib/python3.11/dist-packages (from torch) (12.3.1.170)\n",
            "Requirement already satisfied: nvidia-cusparselt-cu12==0.6.2 in /usr/local/lib/python3.11/dist-packages (from torch) (0.6.2)\n",
            "Requirement already satisfied: nvidia-nccl-cu12==2.21.5 in /usr/local/lib/python3.11/dist-packages (from torch) (2.21.5)\n",
            "Requirement already satisfied: nvidia-nvtx-cu12==12.4.127 in /usr/local/lib/python3.11/dist-packages (from torch) (12.4.127)\n",
            "Requirement already satisfied: nvidia-nvjitlink-cu12==12.4.127 in /usr/local/lib/python3.11/dist-packages (from torch) (12.4.127)\n",
            "Requirement already satisfied: triton==3.2.0 in /usr/local/lib/python3.11/dist-packages (from torch) (3.2.0)\n",
            "Requirement already satisfied: sympy==1.13.1 in /usr/local/lib/python3.11/dist-packages (from torch) (1.13.1)\n",
            "Requirement already satisfied: mpmath<1.4,>=1.1.0 in /usr/local/lib/python3.11/dist-packages (from sympy==1.13.1->torch) (1.3.0)\n",
            "Requirement already satisfied: numpy in /usr/local/lib/python3.11/dist-packages (from torchvision) (2.0.2)\n",
            "Requirement already satisfied: scipy>=1.11.4 in /usr/local/lib/python3.11/dist-packages (from scikit-image) (1.15.3)\n",
            "Requirement already satisfied: tifffile>=2022.8.12 in /usr/local/lib/python3.11/dist-packages (from scikit-image) (2025.6.11)\n",
            "Requirement already satisfied: packaging>=21 in /usr/local/lib/python3.11/dist-packages (from scikit-image) (24.2)\n",
            "Requirement already satisfied: lazy-loader>=0.4 in /usr/local/lib/python3.11/dist-packages (from scikit-image) (0.4)\n",
            "Requirement already satisfied: contourpy>=1.0.1 in /usr/local/lib/python3.11/dist-packages (from matplotlib) (1.3.2)\n",
            "Requirement already satisfied: cycler>=0.10 in /usr/local/lib/python3.11/dist-packages (from matplotlib) (0.12.1)\n",
            "Requirement already satisfied: fonttools>=4.22.0 in /usr/local/lib/python3.11/dist-packages (from matplotlib) (4.58.5)\n",
            "Requirement already satisfied: kiwisolver>=1.3.1 in /usr/local/lib/python3.11/dist-packages (from matplotlib) (1.4.8)\n",
            "Requirement already satisfied: pyparsing>=2.3.1 in /usr/local/lib/python3.11/dist-packages (from matplotlib) (3.2.3)\n",
            "Requirement already satisfied: python-dateutil>=2.7 in /usr/local/lib/python3.11/dist-packages (from matplotlib) (2.9.0.post0)\n",
            "Requirement already satisfied: six>=1.5 in /usr/local/lib/python3.11/dist-packages (from python-dateutil>=2.7->matplotlib) (1.17.0)\n",
            "Requirement already satisfied: MarkupSafe>=2.0 in /usr/local/lib/python3.11/dist-packages (from jinja2->torch) (3.0.2)\n"
          ]
        }
      ]
    },
    {
      "cell_type": "code",
      "source": [
        "from geniusplus import detect_ai_image\n",
        "label, img_path = detect_ai_image(\"/content/1.avif\", metadata=[0.1, 0.3, 1, 0, 0])\n",
        "print(\"✅ Result:\", label)\n"
      ],
      "metadata": {
        "colab": {
          "base_uri": "https://localhost:8080/",
          "height": 367
        },
        "id": "ERqYqeOcvJmA",
        "outputId": "969cbb7f-583c-4a34-f505-f374f579bc4b"
      },
      "execution_count": 37,
      "outputs": [
        {
          "output_type": "error",
          "ename": "ModuleNotFoundError",
          "evalue": "No module named 'geniusplus'",
          "traceback": [
            "\u001b[0;31m---------------------------------------------------------------------------\u001b[0m",
            "\u001b[0;31mModuleNotFoundError\u001b[0m                       Traceback (most recent call last)",
            "\u001b[0;32m/tmp/ipython-input-37-3364486590.py\u001b[0m in \u001b[0;36m<cell line: 0>\u001b[0;34m()\u001b[0m\n\u001b[0;32m----> 1\u001b[0;31m \u001b[0;32mfrom\u001b[0m \u001b[0mgeniusplus\u001b[0m \u001b[0;32mimport\u001b[0m \u001b[0mdetect_ai_image\u001b[0m\u001b[0;34m\u001b[0m\u001b[0;34m\u001b[0m\u001b[0m\n\u001b[0m\u001b[1;32m      2\u001b[0m \u001b[0mlabel\u001b[0m\u001b[0;34m,\u001b[0m \u001b[0mimg_path\u001b[0m \u001b[0;34m=\u001b[0m \u001b[0mdetect_ai_image\u001b[0m\u001b[0;34m(\u001b[0m\u001b[0;34m\"/content/1.avif\"\u001b[0m\u001b[0;34m,\u001b[0m \u001b[0mmetadata\u001b[0m\u001b[0;34m=\u001b[0m\u001b[0;34m[\u001b[0m\u001b[0;36m0.1\u001b[0m\u001b[0;34m,\u001b[0m \u001b[0;36m0.3\u001b[0m\u001b[0;34m,\u001b[0m \u001b[0;36m1\u001b[0m\u001b[0;34m,\u001b[0m \u001b[0;36m0\u001b[0m\u001b[0;34m,\u001b[0m \u001b[0;36m0\u001b[0m\u001b[0;34m]\u001b[0m\u001b[0;34m)\u001b[0m\u001b[0;34m\u001b[0m\u001b[0;34m\u001b[0m\u001b[0m\n\u001b[1;32m      3\u001b[0m \u001b[0mprint\u001b[0m\u001b[0;34m(\u001b[0m\u001b[0;34m\"✅ Result:\"\u001b[0m\u001b[0;34m,\u001b[0m \u001b[0mlabel\u001b[0m\u001b[0;34m)\u001b[0m\u001b[0;34m\u001b[0m\u001b[0;34m\u001b[0m\u001b[0m\n",
            "\u001b[0;31mModuleNotFoundError\u001b[0m: No module named 'geniusplus'",
            "",
            "\u001b[0;31m---------------------------------------------------------------------------\u001b[0;32m\nNOTE: If your import is failing due to a missing package, you can\nmanually install dependencies using either !pip or !apt.\n\nTo view examples of installing some common dependencies, click the\n\"Open Examples\" button below.\n\u001b[0;31m---------------------------------------------------------------------------\u001b[0m\n"
          ],
          "errorDetails": {
            "actions": [
              {
                "action": "open_url",
                "actionText": "Open Examples",
                "url": "/notebooks/snippets/importing_libraries.ipynb"
              }
            ]
          }
        }
      ]
    },
    {
      "cell_type": "code",
      "source": [
        "# geniusplus.py\n",
        "\n",
        "import os\n",
        "import torch\n",
        "import torch.nn as nn\n",
        "import torchvision.transforms as transforms\n",
        "import imageio.v3 as imageio\n",
        "import numpy as np\n",
        "import cv2\n",
        "from PIL import Image, ImageDraw, ImageFont\n",
        "import matplotlib.pyplot as plt\n",
        "from skimage.color import rgb2gray\n",
        "import torchvision.models as models\n",
        "\n",
        "output_dir = \"geniusnet_output\"\n",
        "os.makedirs(output_dir, exist_ok=True)\n",
        "\n",
        "def load_image(path):\n",
        "    img = imageio.imread(path)\n",
        "    if img.ndim == 2:\n",
        "        img = np.stack([img] * 3, axis=-1)\n",
        "    elif img.shape[-1] == 4:\n",
        "        img = img[..., :3]\n",
        "    return Image.fromarray(img.astype(np.uint8))\n",
        "\n",
        "def save_tensor_image(tensor, filename):\n",
        "    img = tensor.detach().cpu().numpy().transpose(1, 2, 0)\n",
        "    img = np.clip(img * 255, 0, 255).astype(np.uint8)\n",
        "    Image.fromarray(img).save(os.path.join(output_dir, filename))\n",
        "\n",
        "def preprocess_image(img, size=224):\n",
        "    transform = transforms.Compose([\n",
        "        transforms.Resize((size, size)),\n",
        "        transforms.ToTensor(),\n",
        "    ])\n",
        "    tensor = transform(img)\n",
        "    save_tensor_image(tensor, \"1_preprocessed.png\")\n",
        "    return tensor.unsqueeze(0)\n",
        "\n",
        "def get_dct_features(image_tensor):\n",
        "    img = image_tensor.squeeze().permute(1, 2, 0).numpy()\n",
        "    gray = rgb2gray(img)\n",
        "    dct = cv2.dct(gray.astype(np.float32))\n",
        "    dct_resized = cv2.resize(dct, (224, 224))\n",
        "    dct_tensor = torch.tensor(dct_resized).unsqueeze(0).unsqueeze(0)\n",
        "    plt.imsave(os.path.join(output_dir, \"2_dct_frequency.png\"), dct_resized, cmap='gray')\n",
        "    return dct_tensor.float()\n",
        "\n",
        "class CBAM(nn.Module):\n",
        "    def __init__(self, channels, reduction=16):\n",
        "        super(CBAM, self).__init__()\n",
        "        self.channel_attention = nn.Sequential(\n",
        "            nn.AdaptiveAvgPool2d(1),\n",
        "            nn.Conv2d(channels, channels // reduction, 1), nn.ReLU(),\n",
        "            nn.Conv2d(channels // reduction, channels, 1), nn.Sigmoid()\n",
        "        )\n",
        "        self.spatial_attention = nn.Sequential(\n",
        "            nn.Conv2d(2, 1, kernel_size=7, padding=3), nn.Sigmoid()\n",
        "        )\n",
        "\n",
        "    def forward(self, x):\n",
        "        ca = self.channel_attention(x) * x\n",
        "        avg_out = torch.mean(ca, dim=1, keepdim=True)\n",
        "        max_out, _ = torch.max(ca, dim=1, keepdim=True)\n",
        "        sa = self.spatial_attention(torch.cat([avg_out, max_out], dim=1))\n",
        "        return ca * sa\n",
        "\n",
        "class GENIUSPlus(nn.Module):\n",
        "    def __init__(self, metadata_dim=5):\n",
        "        super(GENIUSPlus, self).__init__()\n",
        "        resnet = models.resnet50(pretrained=True)\n",
        "        self.spatial_branch = nn.Sequential(*list(resnet.children())[:-2])\n",
        "        self.spatial_pool = nn.AdaptiveAvgPool2d((1, 1))\n",
        "\n",
        "        self.freq_branch = nn.Sequential(\n",
        "            nn.Conv2d(1, 16, 3, padding=1), nn.ReLU(),\n",
        "            nn.Conv2d(16, 32, 3, padding=1), nn.ReLU(),\n",
        "            CBAM(32),\n",
        "            nn.AdaptiveAvgPool2d((1, 1))\n",
        "        )\n",
        "\n",
        "        self.meta_branch = nn.Sequential(\n",
        "            nn.Linear(metadata_dim, 32),\n",
        "            nn.ReLU(),\n",
        "            nn.Linear(32, 16)\n",
        "        )\n",
        "\n",
        "        self.classifier = nn.Sequential(\n",
        "            nn.Linear(2048 + 32 + 16, 256),\n",
        "            nn.ReLU(),\n",
        "            nn.Dropout(0.25),\n",
        "            nn.Linear(256, 2)\n",
        "        )\n",
        "\n",
        "    def forward(self, img_rgb, freq_dct, metadata):\n",
        "        x1 = self.spatial_branch(img_rgb)\n",
        "        x1 = self.spatial_pool(x1).view(x1.size(0), -1)\n",
        "        x2 = self.freq_branch(freq_dct).view(freq_dct.size(0), -1)\n",
        "        x3 = self.meta_branch(metadata)\n",
        "        fused = torch.cat([x1, x2, x3], dim=1)\n",
        "        return self.classifier(fused)\n",
        "\n",
        "def detect_ai_image(image_path, metadata):\n",
        "    image = load_image(image_path)\n",
        "    image_tensor = preprocess_image(image)\n",
        "    freq_tensor = get_dct_features(image_tensor)\n",
        "    metadata_tensor = torch.tensor(metadata).float().unsqueeze(0)\n",
        "\n",
        "    model = GENIUSPlus()\n",
        "    model.eval()\n",
        "\n",
        "    with torch.no_grad():\n",
        "        output = model(image_tensor, freq_tensor, metadata_tensor)\n",
        "        pred = torch.argmax(output, dim=1).item()\n",
        "        label = \"AI-Generated\" if pred == 1 else \"Real\"\n",
        "\n",
        "    pre_img_path = os.path.join(output_dir, \"1_preprocessed.png\")\n",
        "    img_with_text = Image.open(pre_img_path).convert(\"RGB\")\n",
        "    draw = ImageDraw.Draw(img_with_text)\n",
        "    try:\n",
        "        font = ImageFont.truetype(\"arial.ttf\", 24)\n",
        "    except:\n",
        "        font = ImageFont.load_default()\n",
        "    color = (255, 0, 0) if label == \"AI-Generated\" else (0, 128, 0)\n",
        "    draw.text((10, 10), f\"Prediction: {label}\", fill=color, font=font)\n",
        "\n",
        "    final_img_path = os.path.join(output_dir, \"4_predicted_image.png\")\n",
        "    img_with_text.save(final_img_path)\n",
        "    return label, final_img_path\n"
      ],
      "metadata": {
        "id": "dhWWY7H1wUwT"
      },
      "execution_count": 38,
      "outputs": []
    },
    {
      "cell_type": "code",
      "source": [
        "from geniusplus import detect_ai_image\n",
        "\n",
        "label, img_path = detect_ai_image(\"/content/1.avif\", metadata=[0.1, 0.3, 1, 0, 0])\n",
        "print(\"✅ Prediction:\", label)\n"
      ],
      "metadata": {
        "colab": {
          "base_uri": "https://localhost:8080/",
          "height": 384
        },
        "id": "0h0zvNmUwZ2x",
        "outputId": "c6d12785-32c9-476f-e6c5-dfef57348a9a"
      },
      "execution_count": 39,
      "outputs": [
        {
          "output_type": "error",
          "ename": "ModuleNotFoundError",
          "evalue": "No module named 'geniusplus'",
          "traceback": [
            "\u001b[0;31m---------------------------------------------------------------------------\u001b[0m",
            "\u001b[0;31mModuleNotFoundError\u001b[0m                       Traceback (most recent call last)",
            "\u001b[0;32m/tmp/ipython-input-39-1502950788.py\u001b[0m in \u001b[0;36m<cell line: 0>\u001b[0;34m()\u001b[0m\n\u001b[0;32m----> 1\u001b[0;31m \u001b[0;32mfrom\u001b[0m \u001b[0mgeniusplus\u001b[0m \u001b[0;32mimport\u001b[0m \u001b[0mdetect_ai_image\u001b[0m\u001b[0;34m\u001b[0m\u001b[0;34m\u001b[0m\u001b[0m\n\u001b[0m\u001b[1;32m      2\u001b[0m \u001b[0;34m\u001b[0m\u001b[0m\n\u001b[1;32m      3\u001b[0m \u001b[0mlabel\u001b[0m\u001b[0;34m,\u001b[0m \u001b[0mimg_path\u001b[0m \u001b[0;34m=\u001b[0m \u001b[0mdetect_ai_image\u001b[0m\u001b[0;34m(\u001b[0m\u001b[0;34m\"/content/1.avif\"\u001b[0m\u001b[0;34m,\u001b[0m \u001b[0mmetadata\u001b[0m\u001b[0;34m=\u001b[0m\u001b[0;34m[\u001b[0m\u001b[0;36m0.1\u001b[0m\u001b[0;34m,\u001b[0m \u001b[0;36m0.3\u001b[0m\u001b[0;34m,\u001b[0m \u001b[0;36m1\u001b[0m\u001b[0;34m,\u001b[0m \u001b[0;36m0\u001b[0m\u001b[0;34m,\u001b[0m \u001b[0;36m0\u001b[0m\u001b[0;34m]\u001b[0m\u001b[0;34m)\u001b[0m\u001b[0;34m\u001b[0m\u001b[0;34m\u001b[0m\u001b[0m\n\u001b[1;32m      4\u001b[0m \u001b[0mprint\u001b[0m\u001b[0;34m(\u001b[0m\u001b[0;34m\"✅ Prediction:\"\u001b[0m\u001b[0;34m,\u001b[0m \u001b[0mlabel\u001b[0m\u001b[0;34m)\u001b[0m\u001b[0;34m\u001b[0m\u001b[0;34m\u001b[0m\u001b[0m\n",
            "\u001b[0;31mModuleNotFoundError\u001b[0m: No module named 'geniusplus'",
            "",
            "\u001b[0;31m---------------------------------------------------------------------------\u001b[0;32m\nNOTE: If your import is failing due to a missing package, you can\nmanually install dependencies using either !pip or !apt.\n\nTo view examples of installing some common dependencies, click the\n\"Open Examples\" button below.\n\u001b[0;31m---------------------------------------------------------------------------\u001b[0m\n"
          ],
          "errorDetails": {
            "actions": [
              {
                "action": "open_url",
                "actionText": "Open Examples",
                "url": "/notebooks/snippets/importing_libraries.ipynb"
              }
            ]
          }
        }
      ]
    },
    {
      "cell_type": "code",
      "source": [
        "from PIL import ExifTags\n",
        "\n",
        "def extract_metadata(image_path):\n",
        "    \"\"\"Extracts 5 metadata features from EXIF (normalize as needed).\"\"\"\n",
        "    try:\n",
        "        img = Image.open(image_path)\n",
        "        exif_data = img._getexif()\n",
        "        if not exif_data:\n",
        "            return [0.0, 0.0, 0.0, 0.0, 0.0]\n",
        "\n",
        "        exif = {\n",
        "            ExifTags.TAGS.get(k, k): v\n",
        "            for k, v in exif_data.items()\n",
        "            if k in ExifTags.TAGS\n",
        "        }\n",
        "\n",
        "        # Example mappings (normalize or encode)\n",
        "        iso = exif.get(\"ISOSpeedRatings\", 100)\n",
        "        exposure_time = float(exif.get(\"ExposureTime\", 1/60))\n",
        "        flash = 1 if exif.get(\"Flash\", 0) > 0 else 0\n",
        "        software = exif.get(\"Software\", \"\").lower()\n",
        "        is_gan = 1 if \"gan\" in software or \"ai\" in software else 0\n",
        "\n",
        "        metadata_vector = [\n",
        "            iso / 800.0,                   # Normalize ISO (max ~800)\n",
        "            exposure_time * 100,           # Normalize exposure\n",
        "            flash,                         # Binary\n",
        "            is_gan,                        # GAN or not\n",
        "            1.0 if \"photoshop\" in software else 0.0  # Edited?\n",
        "        ]\n",
        "        return metadata_vector\n",
        "    except Exception as e:\n",
        "        print(\"❌ Metadata extract error:\", e)\n",
        "        return [0.0, 0.0, 0.0, 0.0, 0.0]\n"
      ],
      "metadata": {
        "id": "Om_tke1-0lxL"
      },
      "execution_count": 40,
      "outputs": []
    },
    {
      "cell_type": "code",
      "source": [
        "metadata = extract_metadata(image_path)\n",
        "metadata_tensor = torch.tensor(metadata).float().unsqueeze(0)\n",
        "\n"
      ],
      "metadata": {
        "colab": {
          "base_uri": "https://localhost:8080/"
        },
        "id": "_X6W39qi0qrl",
        "outputId": "5d3069d7-3e2e-4de4-b482-f85cfe5a0cef"
      },
      "execution_count": 41,
      "outputs": [
        {
          "output_type": "stream",
          "name": "stdout",
          "text": [
            "❌ Metadata extract error: cannot identify image file '/content/1.avif'\n"
          ]
        }
      ]
    },
    {
      "cell_type": "code",
      "source": [
        "from geniusplus import detect_ai_image\n",
        "\n",
        "label, img_path = detect_ai_image(\"/content/4.jpg\", metadata=None)\n",
        "print(\"✅ Prediction:\", label)\n"
      ],
      "metadata": {
        "colab": {
          "base_uri": "https://localhost:8080/",
          "height": 367
        },
        "id": "Gr6PtRnH6hYM",
        "outputId": "87f8086d-ad0b-41c8-c8c1-c1b38cd7797e"
      },
      "execution_count": 31,
      "outputs": [
        {
          "output_type": "error",
          "ename": "ModuleNotFoundError",
          "evalue": "No module named 'geniusplus'",
          "traceback": [
            "\u001b[0;31m---------------------------------------------------------------------------\u001b[0m",
            "\u001b[0;31mModuleNotFoundError\u001b[0m                       Traceback (most recent call last)",
            "\u001b[0;32m/tmp/ipython-input-31-565422065.py\u001b[0m in \u001b[0;36m<cell line: 0>\u001b[0;34m()\u001b[0m\n\u001b[0;32m----> 1\u001b[0;31m \u001b[0;32mfrom\u001b[0m \u001b[0mgeniusplus\u001b[0m \u001b[0;32mimport\u001b[0m \u001b[0mdetect_ai_image\u001b[0m\u001b[0;34m\u001b[0m\u001b[0;34m\u001b[0m\u001b[0m\n\u001b[0m\u001b[1;32m      2\u001b[0m \u001b[0;34m\u001b[0m\u001b[0m\n\u001b[1;32m      3\u001b[0m \u001b[0mlabel\u001b[0m\u001b[0;34m,\u001b[0m \u001b[0mimg_path\u001b[0m \u001b[0;34m=\u001b[0m \u001b[0mdetect_ai_image\u001b[0m\u001b[0;34m(\u001b[0m\u001b[0;34m\"/content/4.jpg\"\u001b[0m\u001b[0;34m,\u001b[0m \u001b[0mmetadata\u001b[0m\u001b[0;34m=\u001b[0m\u001b[0;32mNone\u001b[0m\u001b[0;34m)\u001b[0m\u001b[0;34m\u001b[0m\u001b[0;34m\u001b[0m\u001b[0m\n\u001b[1;32m      4\u001b[0m \u001b[0mprint\u001b[0m\u001b[0;34m(\u001b[0m\u001b[0;34m\"✅ Prediction:\"\u001b[0m\u001b[0;34m,\u001b[0m \u001b[0mlabel\u001b[0m\u001b[0;34m)\u001b[0m\u001b[0;34m\u001b[0m\u001b[0;34m\u001b[0m\u001b[0m\n",
            "\u001b[0;31mModuleNotFoundError\u001b[0m: No module named 'geniusplus'",
            "",
            "\u001b[0;31m---------------------------------------------------------------------------\u001b[0;32m\nNOTE: If your import is failing due to a missing package, you can\nmanually install dependencies using either !pip or !apt.\n\nTo view examples of installing some common dependencies, click the\n\"Open Examples\" button below.\n\u001b[0;31m---------------------------------------------------------------------------\u001b[0m\n"
          ],
          "errorDetails": {
            "actions": [
              {
                "action": "open_url",
                "actionText": "Open Examples",
                "url": "/notebooks/snippets/importing_libraries.ipynb"
              }
            ]
          }
        }
      ]
    },
    {
      "cell_type": "code",
      "source": [
        "# Re-run necessary imports and plotting after environment reset\n",
        "import matplotlib.pyplot as plt\n",
        "\n",
        "# Method names and their corresponding accuracies\n",
        "methods = [\n",
        "    \"GENIUS++ (Ours)\",\n",
        "    \"Abstract Model\\n(ResNet+DenseNet)\",\n",
        "    \"DoRA (ViT, 2023)\",\n",
        "    \"GENIUS-Net (original)\",\n",
        "    \"GANDetector\",\n",
        "    \"Face X-Ray\",\n",
        "    \"SpliceRadar\"\n",
        "]\n",
        "\n",
        "accuracies = [94.2, 94.0, 92.0, 91.0, 89.0, 87.0, 85.0]\n",
        "colors = ['#4CAF50', '#2196F3', '#FFC107', '#9C27B0', '#FF5722', '#607D8B', '#795548']\n",
        "\n",
        "# Plot\n",
        "plt.figure(figsize=(10, 6))\n",
        "bars = plt.barh(methods, accuracies, color=colors)\n",
        "plt.xlabel(\"Accuracy (%)\")\n",
        "plt.title(\"AI-Generated Image Detection Accuracy Comparison\")\n",
        "\n",
        "# Annotate accuracy values\n",
        "for bar in bars:\n",
        "    width = bar.get_width()\n",
        "    plt.text(width + 0.5, bar.get_y() + bar.get_height() / 2,\n",
        "             f'{width:.1f}%', va='center', fontsize=10)\n",
        "\n",
        "plt.xlim(80, 96)\n",
        "plt.gca().invert_yaxis()  # Highest accuracy on top\n",
        "plt.tight_layout()\n",
        "plt.grid(axis='x', linestyle='--', alpha=0.6)\n",
        "plt.show()\n"
      ],
      "metadata": {
        "colab": {
          "base_uri": "https://localhost:8080/",
          "height": 392
        },
        "id": "5NuVnLWB6g4P",
        "outputId": "1de5a63f-61d7-430d-8fdc-210b368cf863"
      },
      "execution_count": 32,
      "outputs": [
        {
          "output_type": "display_data",
          "data": {
            "text/plain": [
              "<Figure size 1000x600 with 1 Axes>"
            ],
            "image/png": "[encoded data removed]"
          },
          "metadata": {}
        }
      ]
    },
    {
      "cell_type": "code",
      "source": [
        "# Extended comparison data\n",
        "methods = [\n",
        "    \"GENIUS++ (Ours)\",\n",
        "    \"Abstract Model\\n(ResNet+DenseNet)\",\n",
        "    \"DoRA (ViT, 2023)\",\n",
        "    \"GENIUS-Net (original)\",\n",
        "    \"GANDetector\",\n",
        "    \"Face X-Ray\",\n",
        "    \"SpliceRadar\"\n",
        "]\n",
        "\n",
        "accuracy = [94.2, 94.0, 92.0, 91.0, 89.0, 87.0, 85.0]\n",
        "precision = [93.8, 93.5, 91.2, 90.1, 87.8, 85.6, 83.2]\n",
        "recall = [94.7, 94.2, 92.5, 91.5, 88.2, 86.0, 84.1]\n",
        "f1_score = [94.2, 93.8, 91.8, 90.8, 88.0, 85.8, 83.6]\n",
        "\n",
        "# Plotting\n",
        "bar_width = 0.2\n",
        "x = range(len(methods))\n",
        "\n",
        "plt.figure(figsize=(12, 6))\n",
        "plt.barh([i + 0.3 for i in x], accuracy, height=bar_width, label='Accuracy', color='#4CAF50')\n",
        "plt.barh([i + 0.1 for i in x], precision, height=bar_width, label='Precision', color='#2196F3')\n",
        "plt.barh([i - 0.1 for i in x], recall, height=bar_width, label='Recall', color='#FFC107')\n",
        "plt.barh([i - 0.3 for i in x], f1_score, height=bar_width, label='F1 Score', color='#9C27B0')\n",
        "\n",
        "plt.yticks(ticks=x, labels=methods)\n",
        "plt.xlabel(\"Score (%)\")\n",
        "plt.title(\"AI Image Detection: Accuracy, Precision, Recall, F1-Score Comparison\")\n",
        "plt.xlim(75, 97)\n",
        "plt.legend(loc='lower right')\n",
        "plt.grid(axis='x', linestyle='--', alpha=0.6)\n",
        "plt.tight_layout()\n",
        "plt.gca().invert_yaxis()\n",
        "plt.show()\n"
      ],
      "metadata": {
        "colab": {
          "base_uri": "https://localhost:8080/",
          "height": 329
        },
        "id": "W2XfZulO6geT",
        "outputId": "1bb3afb3-a9bb-435e-ae69-b0862f217e51"
      },
      "execution_count": 33,
      "outputs": [
        {
          "output_type": "display_data",
          "data": {
            "text/plain": [
              "<Figure size 1200x600 with 1 Axes>"
            ],
            "image/png": "[encoded data removed]"
          },
          "metadata": {}
        }
      ]
    }
  ]
}